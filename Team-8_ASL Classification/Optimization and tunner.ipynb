{
 "cells": [
  {
   "cell_type": "code",
   "execution_count": 1,
   "id": "982508f2-a2a4-4bb1-a297-1d4d87bea88b",
   "metadata": {},
   "outputs": [],
   "source": [
    "import tensorflow as tf\n",
    "import numpy as np\n",
    "import matplotlib.pyplot as plt\n",
    "import os\n",
    "import seaborn as sns\n",
    "import keras_tuner as kt\n",
    "from sklearn.metrics import classification_report, confusion_matrix\n",
    "from tensorflow.keras import layers, models\n",
    "from tensorflow.keras.preprocessing import image\n",
    "from tensorflow.keras.callbacks import EarlyStopping, ModelCheckpoint"
   ]
  },
  {
   "cell_type": "code",
   "execution_count": 2,
   "id": "0cfb9ce0-4ca5-4447-bd98-1303d71d00e8",
   "metadata": {},
   "outputs": [],
   "source": [
    "train_dataset_path = \"C:/Users/Hemanth Kumar Reddy/Documents/NNDL/Image2/archive (2)/asl_alphabet_train/asl_alphabet_train\"\n",
    "test_dataset_path = \"C:/Users/Hemanth Kumar Reddy/Documents/NNDL/Image2/archive (2)/asl_alphabet_test/asl_alphabet_test\"\n"
   ]
  },
  {
   "cell_type": "code",
   "execution_count": 3,
   "id": "d766e0eb-696b-4106-a57b-1c24bff58283",
   "metadata": {},
   "outputs": [],
   "source": [
    "img_size = (64, 64)\n",
    "batch_size = 32"
   ]
  },
  {
   "cell_type": "code",
   "execution_count": 4,
   "id": "53bf65c3-3e07-481b-80b6-ce7cffe096af",
   "metadata": {},
   "outputs": [
    {
     "name": "stdout",
     "output_type": "stream",
     "text": [
      "Found 86994 files belonging to 29 classes.\n",
      "Using 69596 files for training.\n",
      "Found 86994 files belonging to 29 classes.\n",
      "Using 17398 files for validation.\n"
     ]
    }
   ],
   "source": [
    "train_ds = tf.keras.utils.image_dataset_from_directory(\n",
    "    train_dataset_path,\n",
    "    image_size=img_size,\n",
    "    batch_size=batch_size,\n",
    "    seed=42,\n",
    "    validation_split=0.2,\n",
    "    subset=\"training\"\n",
    ")\n",
    "val_ds = tf.keras.utils.image_dataset_from_directory(\n",
    "    train_dataset_path,\n",
    "    image_size=img_size,\n",
    "    batch_size=batch_size,\n",
    "    seed=42,\n",
    "    validation_split=0.2,\n",
    "    subset=\"validation\"\n",
    ")"
   ]
  },
  {
   "cell_type": "code",
   "execution_count": 5,
   "id": "ee264150-fe10-4925-b1ce-852302043151",
   "metadata": {},
   "outputs": [
    {
     "name": "stdout",
     "output_type": "stream",
     "text": [
      "Classes: ['A', 'B', 'C', 'D', 'E', 'F', 'G', 'H', 'I', 'J', 'K', 'L', 'M', 'N', 'O', 'P', 'Q', 'R', 'S', 'T', 'U', 'V', 'W', 'X', 'Y', 'Z', 'del', 'nothing', 'space']\n"
     ]
    }
   ],
   "source": [
    "class_names = train_ds.class_names\n",
    "num_classes = len(class_names)\n",
    "print(f\"Classes: {class_names}\")\n"
   ]
  },
  {
   "cell_type": "code",
   "execution_count": 6,
   "id": "ea1196f2-2761-4231-b1b1-27ffd99d815f",
   "metadata": {},
   "outputs": [],
   "source": [
    "normalization_layer = tf.keras.layers.Rescaling(1./255)\n",
    "train_ds = train_ds.map(lambda x, y: (normalization_layer(x), y))\n",
    "val_ds = val_ds.map(lambda x, y: (normalization_layer(x), y))\n"
   ]
  },
  {
   "cell_type": "code",
   "execution_count": 7,
   "id": "0dc79d76-ccb8-4a47-a55b-96ba61358b0e",
   "metadata": {},
   "outputs": [],
   "source": [
    "train_ds = train_ds.prefetch(buffer_size=tf.data.AUTOTUNE)\n",
    "val_ds = val_ds.prefetch(buffer_size=tf.data.AUTOTUNE)"
   ]
  },
  {
   "cell_type": "code",
   "execution_count": 8,
   "id": "d992e236-3c5a-4fec-b6fe-8568a2ee4c2b",
   "metadata": {},
   "outputs": [],
   "source": [
    "def build_hybrid_model(hp):\n",
    "    model = models.Sequential()\n",
    "    \n",
    "    for i in range(hp.Int(\"conv_layers\", 2, 3)):  \n",
    "        model.add(layers.Conv2D(\n",
    "            filters=hp.Choice(f\"filters_{i}\", [32, 64, 128]),\n",
    "            kernel_size=(3, 3),\n",
    "            activation='relu'\n",
    "        ))\n",
    "        model.add(layers.MaxPooling2D((2, 2)))\n",
    "    \n",
    "    model.add(layers.Flatten())\n",
    "\n",
    "    for i in range(hp.Int(\"dense_layers\", 1, 2)):  \n",
    "        model.add(layers.Dense(\n",
    "            units=hp.Choice(f\"dense_units_{i}\", [256, 512, 1024]),\n",
    "            activation='relu'\n",
    "        ))\n",
    "        model.add(layers.Dropout(hp.Float(\"dropout\", 0.2, 0.5, step=0.1)))  # Tune dropout\n",
    "    \n",
    "    model.add(layers.Dense(num_classes, activation='softmax'))\n",
    "\n",
    "    learning_rate = hp.Choice(\"learning_rate\", [1e-2, 1e-3, 1e-4])\n",
    "    model.compile(optimizer=tf.keras.optimizers.Adam(learning_rate),\n",
    "                  loss='sparse_categorical_crossentropy',\n",
    "                  metrics=['accuracy'])\n",
    "    \n",
    "    return model"
   ]
  },
  {
   "cell_type": "code",
   "execution_count": 9,
   "id": "a09e2492-3e16-4a9f-8971-a78507a05553",
   "metadata": {},
   "outputs": [],
   "source": [
    "tuner = kt.RandomSearch(\n",
    "    build_hybrid_model,\n",
    "    objective=\"val_accuracy\",\n",
    "    max_trials=5, \n",
    "    executions_per_trial=1,\n",
    "    directory=\"tuner_results\",\n",
    "    project_name=\"asl_sign_language\"\n",
    ")"
   ]
  },
  {
   "cell_type": "code",
   "execution_count": 13,
   "id": "9f7b957a-0ed4-4a35-ae26-8e029f5b5ff4",
   "metadata": {},
   "outputs": [
    {
     "name": "stdout",
     "output_type": "stream",
     "text": [
      "Trial 5 Complete [00h 20m 30s]\n",
      "val_accuracy: 0.9922404885292053\n",
      "\n",
      "Best val_accuracy So Far: 0.9922404885292053\n",
      "Total elapsed time: 01h 51m 17s\n"
     ]
    }
   ],
   "source": [
    "tuner.search(train_ds, validation_data=val_ds, epochs=5, callbacks=[EarlyStopping(monitor='val_loss', patience=2)])"
   ]
  },
  {
   "cell_type": "code",
   "execution_count": 14,
   "id": "27473b16-d823-46ea-acb5-7e389104735e",
   "metadata": {},
   "outputs": [
    {
     "name": "stdout",
     "output_type": "stream",
     "text": [
      "Best hyperparameters found: {'conv_layers': 2, 'filters_0': 64, 'filters_1': 128, 'dense_layers': 2, 'dense_units_0': 256, 'dropout': 0.2, 'learning_rate': 0.001, 'filters_2': 64, 'dense_units_1': 256}\n"
     ]
    }
   ],
   "source": [
    "best_hps = tuner.get_best_hyperparameters(num_trials=1)[0]\n",
    "print(\"Best hyperparameters found:\", best_hps.values)"
   ]
  },
  {
   "cell_type": "code",
   "execution_count": null,
   "id": "d08f22b6-8fca-4973-9be1-7b58cc427c5e",
   "metadata": {},
   "outputs": [],
   "source": []
  }
 ],
 "metadata": {
  "kernelspec": {
   "display_name": "Python 3 (ipykernel)",
   "language": "python",
   "name": "python3"
  },
  "language_info": {
   "codemirror_mode": {
    "name": "ipython",
    "version": 3
   },
   "file_extension": ".py",
   "mimetype": "text/x-python",
   "name": "python",
   "nbconvert_exporter": "python",
   "pygments_lexer": "ipython3",
   "version": "3.12.4"
  }
 },
 "nbformat": 4,
 "nbformat_minor": 5
}
